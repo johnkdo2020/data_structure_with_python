{
 "cells": [
  {
   "cell_type": "code",
   "execution_count": null,
   "metadata": {},
   "outputs": [],
   "source": [
    "class CList:\n",
    "    class _Node:\n",
    "        def __init__(self, item, link):\n",
    "            self.item = item\n",
    "            self.next = next\n",
    "    \n",
    "    def __init__(self):\n",
    "        self.last = None\n",
    "        self.size = 0\n",
    "        \n",
    "    def no_items(self):  return self.size\n",
    "    def is_empty(self):  return self.size == 0\n",
    "    \n",
    "    def insert(self, item):\n",
    "        n = self._Node(item, None)\n",
    "        if self.is_empty():\n",
    "            n.next = n\n",
    "            self.last = n"
   ]
  }
 ],
 "metadata": {
  "kernelspec": {
   "display_name": "Django Shell-Plus",
   "language": "python",
   "name": "django_extensions"
  },
  "language_info": {
   "codemirror_mode": {
    "name": "ipython",
    "version": 3
   },
   "file_extension": ".py",
   "mimetype": "text/x-python",
   "name": "python",
   "nbconvert_exporter": "python",
   "pygments_lexer": "ipython3",
   "version": "3.7.5"
  }
 },
 "nbformat": 4,
 "nbformat_minor": 4
}
