{
 "cells": [
  {
   "cell_type": "markdown",
   "metadata": {},
   "source": [
    "# 2.7"
   ]
  },
  {
   "cell_type": "code",
   "execution_count": 20,
   "metadata": {},
   "outputs": [],
   "source": [
    "class SList:\n",
    "    class Node:\n",
    "        def __init__(self, item, link):\n",
    "            self.item = item\n",
    "            self.next = link\n",
    "            \n",
    "    \n",
    "    def __init__(self):\n",
    "        self.head = None\n",
    "        self.size = 0\n",
    "        \n",
    "    def size(self): return self.size\n",
    "    def is_empty(self): return self.size == 0\n",
    "    \n",
    "    def insert_front(self, item):\n",
    "        if self.is_empty():\n",
    "            self.head = self.Node(item, None)\n",
    "        \n",
    "        else:\n",
    "            self.head = self.Node(item, self.head)\n",
    "        self.size += 1\n",
    "        \n",
    "    def insert_after(self, item, p):\n",
    "        p.next = SList.Node(item, p.next)\n",
    "        self.size += 1\n",
    "        \n",
    "    def delete_front(self):\n",
    "        if self.is_empty():\n",
    "            raise EmptyError('Underflow')\n",
    "        else:\n",
    "            self.head = self.head.next\n",
    "            self.size -= 1\n",
    "            \n",
    "    def delete_after(self, p):\n",
    "        if self.is_empty():\n",
    "            raise EmptyError('Underflow')\n",
    "        t = p.next\n",
    "        p.next = t.next\n",
    "        self.size -= 1\n",
    "        \n",
    "    def search(self, target):\n",
    "        p = self.head\n",
    "        for k in range(self.size):\n",
    "            if target == p.item: return k\n",
    "            p = p.next\n",
    "        return None\n",
    "    def print_list(self):\n",
    "        p = self.head\n",
    "        while p:\n",
    "            if p.next != None:\n",
    "                print(p.item, ' -> ', end='')\n",
    "            else:\n",
    "                print(p.item)\n",
    "            p = p.next\n",
    "\n",
    "class EmptyError(Exception):\n",
    "    pass"
   ]
  },
  {
   "cell_type": "code",
   "execution_count": 82,
   "metadata": {},
   "outputs": [],
   "source": [
    "s1 = SList()\n",
    "s1.insert_front('orange')\n",
    "s1.insert_front('apple')\n",
    "s1.insert_after('cherry', s1.head.next)\n",
    "s1.insert_front('pear')\n"
   ]
  },
  {
   "cell_type": "code",
   "execution_count": null,
   "metadata": {},
   "outputs": [],
   "source": [
    "s2 = SList()\n",
    "s2.insert_front('orange')\n",
    "s2.insert_front('apple')\n",
    "s2.insert_after('cherry', s2.head.next)\n",
    "s2.insert_front('pear')\n"
   ]
  },
  {
   "cell_type": "code",
   "execution_count": 68,
   "metadata": {},
   "outputs": [],
   "source": [
    "def get_double_linked_list(list1, list2):\n",
    "    p = list1.head\n",
    "    while p:\n",
    "        if p.next == None:\n",
    "            p.next = list2.head\n",
    "            return\n",
    "        else:\n",
    "            p = p.next\n",
    "        \n",
    "    \n",
    "    "
   ]
  },
  {
   "cell_type": "code",
   "execution_count": 69,
   "metadata": {},
   "outputs": [],
   "source": [
    "get_double_linked_list(s1,s2)"
   ]
  },
  {
   "cell_type": "code",
   "execution_count": 97,
   "metadata": {},
   "outputs": [
    {
     "name": "stdout",
     "output_type": "stream",
     "text": [
      "pear  -> apple  -> orange  -> cherry\n"
     ]
    }
   ],
   "source": [
    "s1.print_list()"
   ]
  },
  {
   "cell_type": "code",
   "execution_count": null,
   "metadata": {},
   "outputs": [],
   "source": []
  },
  {
   "cell_type": "markdown",
   "metadata": {},
   "source": [
    "# 2.9 주어진 단순연결리스트를 역방향 단순연결리스트로 만든느 함수를 작성하시오\n",
    "\n",
    "### (실패)"
   ]
  },
  {
   "cell_type": "code",
   "execution_count": 77,
   "metadata": {},
   "outputs": [
    {
     "name": "stdout",
     "output_type": "stream",
     "text": [
      "pear  -> apple  -> orange  -> cherry\n"
     ]
    }
   ],
   "source": [
    "s1.print_list()"
   ]
  },
  {
   "cell_type": "code",
   "execution_count": 184,
   "metadata": {},
   "outputs": [],
   "source": [
    "\n",
    "\n",
    "def reverse(list1):\n",
    "    p = list1.head\n",
    "    ab = list()\n",
    "    while p:\n",
    "#         past = ''\n",
    "        if p.next == None:\n",
    "            list1.head = p.next \n",
    "            \n",
    "            print(p.item)\n",
    "            break\n",
    "        else:\n",
    "            print(p.item)\n",
    "            ab.append(p)\n",
    "            p = p.next\n",
    "\n",
    "\n",
    "        \n",
    "    \n",
    "    return "
   ]
  },
  {
   "cell_type": "code",
   "execution_count": 185,
   "metadata": {},
   "outputs": [
    {
     "name": "stdout",
     "output_type": "stream",
     "text": [
      "pear\n",
      "apple\n",
      "orange\n",
      "cherry\n"
     ]
    }
   ],
   "source": [
    "reverse(s1)"
   ]
  },
  {
   "cell_type": "markdown",
   "metadata": {},
   "source": [
    "# 2.10 \n",
    "#### 각 노드에 1개의 정수가 저장된 단순연결리스트와 정수 k가 주어질때, 이 단순연결리스\n",
    "#### 트를 하나는 k와 같거나 작은 정수를 가진 연결리스트로, 다른 하나는 k보다 큰 정수를 \n",
    "#### 가진 노드들로만 구성된 연결리스트로 분리하는 함수를 작성하시오 "
   ]
  },
  {
   "cell_type": "code",
   "execution_count": 211,
   "metadata": {},
   "outputs": [],
   "source": [
    "s1 = SList()\n",
    "s1.insert_front(1)\n",
    "s1.insert_front(2)\n",
    "s1.insert_after(3, s1.head.next)\n",
    "s1.insert_front(4)\n",
    "\n",
    "s1.insert_front(5)\n",
    "s1.insert_front(10)\n",
    "s1.insert_after(7,s1.head.next)\n",
    "\n",
    "\n",
    "\n"
   ]
  },
  {
   "cell_type": "code",
   "execution_count": 212,
   "metadata": {},
   "outputs": [
    {
     "name": "stdout",
     "output_type": "stream",
     "text": [
      "10  -> 5  -> 7  -> 4  -> 2  -> 1  -> 3\n"
     ]
    }
   ],
   "source": [
    "s1.print_list()"
   ]
  },
  {
   "cell_type": "code",
   "execution_count": 217,
   "metadata": {},
   "outputs": [],
   "source": [
    "def split(s):\n",
    "    p = s.head\n",
    "    bigman = SList()\n",
    "    samel = SList()\n",
    "    while p:\n",
    "        if p.item >=7:\n",
    "            bigman.insert_front(p.item)\n",
    "        \n",
    "        else:\n",
    "            samel.insert_front(p.item)\n",
    "        p = p.next\n",
    "        \n",
    "    return (bigman, samel)"
   ]
  },
  {
   "cell_type": "code",
   "execution_count": 218,
   "metadata": {},
   "outputs": [],
   "source": [
    "big, sm = split(s1)"
   ]
  },
  {
   "cell_type": "code",
   "execution_count": 219,
   "metadata": {},
   "outputs": [
    {
     "name": "stdout",
     "output_type": "stream",
     "text": [
      "7  -> 10\n"
     ]
    }
   ],
   "source": [
    "big.print_list()"
   ]
  },
  {
   "cell_type": "code",
   "execution_count": 220,
   "metadata": {},
   "outputs": [
    {
     "name": "stdout",
     "output_type": "stream",
     "text": [
      "3  -> 1  -> 2  -> 4  -> 5\n"
     ]
    }
   ],
   "source": [
    "sm.print_list()"
   ]
  },
  {
   "cell_type": "code",
   "execution_count": 222,
   "metadata": {},
   "outputs": [],
   "source": [
    "# 2.11 "
   ]
  },
  {
   "cell_type": "code",
   "execution_count": 229,
   "metadata": {},
   "outputs": [],
   "source": []
  },
  {
   "cell_type": "code",
   "execution_count": 230,
   "metadata": {},
   "outputs": [],
   "source": [
    "s1 = SList()\n",
    "s1.insert_front(1)\n",
    "s1.insert_front(2)\n",
    "s1.insert_after(3, s1.head.next)\n",
    "s1.insert_front(4)\n",
    "\n",
    "s1.insert_front(5)\n",
    "s1.insert_front(10)\n",
    "s1.insert_after(7,s1.head.next)\n",
    "\n",
    "\n",
    "s2 = SList()\n",
    "s2.insert_front(1)\n",
    "s2.insert_front(2)\n",
    "s2.insert_after(3, s2.head.next)\n",
    "s2.insert_front(4)\n",
    "\n",
    "s2.insert_front(8)\n",
    "s2.insert_front(9)\n",
    "s2.insert_after(6,s2.head.next)"
   ]
  },
  {
   "cell_type": "code",
   "execution_count": 240,
   "metadata": {},
   "outputs": [],
   "source": [
    "def common_number(s1, s2):\n",
    "    p1 = s1.head\n",
    "    pl = list()\n",
    "    while p1:\n",
    "        pl.append(p1.item)\n",
    "        p1 = p1.next\n",
    "    p2 = s2.head    \n",
    "    sum =0\n",
    "    while p2:\n",
    "        \n",
    "        if  p2.item in pl:\n",
    "            print(p2.item)\n",
    "            sum += p2.item\n",
    "        p2 = p2.next\n",
    "    return sum\n",
    "            \n",
    "            \n",
    "        \n",
    "    "
   ]
  },
  {
   "cell_type": "code",
   "execution_count": 241,
   "metadata": {},
   "outputs": [
    {
     "name": "stdout",
     "output_type": "stream",
     "text": [
      "4\n",
      "2\n",
      "1\n",
      "3\n"
     ]
    },
    {
     "data": {
      "text/plain": [
       "10"
      ]
     },
     "execution_count": 241,
     "metadata": {},
     "output_type": "execute_result"
    }
   ],
   "source": [
    "common_number(s1,s2)"
   ]
  },
  {
   "cell_type": "code",
   "execution_count": null,
   "metadata": {},
   "outputs": [],
   "source": []
  },
  {
   "cell_type": "code",
   "execution_count": null,
   "metadata": {},
   "outputs": [],
   "source": []
  }
 ],
 "metadata": {
  "kernelspec": {
   "display_name": "Django Shell-Plus",
   "language": "python",
   "name": "django_extensions"
  },
  "language_info": {
   "codemirror_mode": {
    "name": "ipython",
    "version": 3
   },
   "file_extension": ".py",
   "mimetype": "text/x-python",
   "name": "python",
   "nbconvert_exporter": "python",
   "pygments_lexer": "ipython3",
   "version": "3.7.5"
  }
 },
 "nbformat": 4,
 "nbformat_minor": 4
}
