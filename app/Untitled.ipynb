{
 "cells": [
  {
   "cell_type": "code",
   "execution_count": 1,
   "metadata": {},
   "outputs": [
    {
     "data": {
      "text/plain": [
       "23.357142857142858"
      ]
     },
     "execution_count": 1,
     "metadata": {},
     "output_type": "execute_result"
    }
   ],
   "source": [
    "327/14\n"
   ]
  },
  {
   "cell_type": "code",
   "execution_count": 2,
   "metadata": {},
   "outputs": [],
   "source": [
    "b = [None] * 10"
   ]
  },
  {
   "cell_type": "code",
   "execution_count": 3,
   "metadata": {},
   "outputs": [
    {
     "data": {
      "text/plain": [
       "[None, None, None, None, None, None, None, None, None, None]"
      ]
     },
     "execution_count": 3,
     "metadata": {},
     "output_type": "execute_result"
    }
   ],
   "source": [
    "b"
   ]
  },
  {
   "cell_type": "code",
   "execution_count": 4,
   "metadata": {},
   "outputs": [
    {
     "ename": "NameError",
     "evalue": "name 'c' is not defined",
     "output_type": "error",
     "traceback": [
      "\u001b[0;31m---------------------------------------------------------------------------\u001b[0m",
      "\u001b[0;31mNameError\u001b[0m                                 Traceback (most recent call last)",
      "\u001b[0;32m<ipython-input-4-a51fb245d8b9>\u001b[0m in \u001b[0;36m<module>\u001b[0;34m\u001b[0m\n\u001b[0;32m----> 1\u001b[0;31m \u001b[0mc\u001b[0m\u001b[0;34m[\u001b[0m\u001b[0;34m-\u001b[0m\u001b[0;36m1\u001b[0m\u001b[0;34m]\u001b[0m\u001b[0;34m\u001b[0m\u001b[0;34m\u001b[0m\u001b[0m\n\u001b[0m",
      "\u001b[0;31mNameError\u001b[0m: name 'c' is not defined"
     ]
    }
   ],
   "source": [
    "c[-1]"
   ]
  },
  {
   "cell_type": "code",
   "execution_count": 5,
   "metadata": {},
   "outputs": [],
   "source": [
    "b.pop()"
   ]
  },
  {
   "cell_type": "code",
   "execution_count": 6,
   "metadata": {},
   "outputs": [
    {
     "data": {
      "text/plain": [
       "[None, None, None, None, None, None, None, None, None]"
      ]
     },
     "execution_count": 6,
     "metadata": {},
     "output_type": "execute_result"
    }
   ],
   "source": [
    "\n",
    "b"
   ]
  },
  {
   "cell_type": "code",
   "execution_count": 7,
   "metadata": {},
   "outputs": [],
   "source": [
    "b = [ i for i in range(1, 11)]"
   ]
  },
  {
   "cell_type": "code",
   "execution_count": 8,
   "metadata": {},
   "outputs": [
    {
     "data": {
      "text/plain": [
       "[1, 2, 3, 4, 5, 6, 7, 8, 9, 10]"
      ]
     },
     "execution_count": 8,
     "metadata": {},
     "output_type": "execute_result"
    }
   ],
   "source": [
    "b"
   ]
  },
  {
   "cell_type": "code",
   "execution_count": 9,
   "metadata": {},
   "outputs": [
    {
     "data": {
      "text/plain": [
       "10"
      ]
     },
     "execution_count": 9,
     "metadata": {},
     "output_type": "execute_result"
    }
   ],
   "source": [
    "b.pop()"
   ]
  },
  {
   "cell_type": "code",
   "execution_count": 10,
   "metadata": {},
   "outputs": [
    {
     "data": {
      "text/plain": [
       "[1, 2, 3, 4, 5, 6, 7, 8, 9]"
      ]
     },
     "execution_count": 10,
     "metadata": {},
     "output_type": "execute_result"
    }
   ],
   "source": [
    "b"
   ]
  },
  {
   "cell_type": "code",
   "execution_count": 11,
   "metadata": {},
   "outputs": [],
   "source": [
    "import random \n",
    "import time\n",
    "\n",
    "random.seed(time.time())"
   ]
  },
  {
   "cell_type": "code",
   "execution_count": 12,
   "metadata": {},
   "outputs": [],
   "source": [
    "a = list()\n",
    "\n",
    "for i in range(100):\n",
    "    a.append(random.randint(1, 1000))"
   ]
  },
  {
   "cell_type": "code",
   "execution_count": 13,
   "metadata": {
    "scrolled": true
   },
   "outputs": [
    {
     "data": {
      "text/plain": [
       "[634,\n",
       " 869,\n",
       " 369,\n",
       " 655,\n",
       " 129,\n",
       " 762,\n",
       " 433,\n",
       " 363,\n",
       " 132,\n",
       " 313,\n",
       " 636,\n",
       " 723,\n",
       " 628,\n",
       " 615,\n",
       " 752,\n",
       " 696,\n",
       " 643,\n",
       " 886,\n",
       " 139,\n",
       " 669,\n",
       " 817,\n",
       " 899,\n",
       " 63,\n",
       " 199,\n",
       " 115,\n",
       " 963,\n",
       " 994,\n",
       " 770,\n",
       " 125,\n",
       " 46,\n",
       " 230,\n",
       " 302,\n",
       " 943,\n",
       " 206,\n",
       " 201,\n",
       " 223,\n",
       " 293,\n",
       " 920,\n",
       " 705,\n",
       " 858,\n",
       " 616,\n",
       " 19,\n",
       " 106,\n",
       " 484,\n",
       " 171,\n",
       " 572,\n",
       " 970,\n",
       " 810,\n",
       " 25,\n",
       " 125,\n",
       " 840,\n",
       " 893,\n",
       " 38,\n",
       " 785,\n",
       " 655,\n",
       " 536,\n",
       " 927,\n",
       " 10,\n",
       " 814,\n",
       " 129,\n",
       " 978,\n",
       " 370,\n",
       " 916,\n",
       " 324,\n",
       " 770,\n",
       " 546,\n",
       " 606,\n",
       " 314,\n",
       " 507,\n",
       " 302,\n",
       " 983,\n",
       " 596,\n",
       " 732,\n",
       " 725,\n",
       " 277,\n",
       " 736,\n",
       " 307,\n",
       " 202,\n",
       " 858,\n",
       " 597,\n",
       " 226,\n",
       " 309,\n",
       " 92,\n",
       " 647,\n",
       " 870,\n",
       " 56,\n",
       " 107,\n",
       " 425,\n",
       " 39,\n",
       " 422,\n",
       " 232,\n",
       " 109,\n",
       " 999,\n",
       " 126,\n",
       " 34,\n",
       " 972,\n",
       " 514,\n",
       " 827,\n",
       " 187,\n",
       " 31]"
      ]
     },
     "execution_count": 13,
     "metadata": {},
     "output_type": "execute_result"
    }
   ],
   "source": [
    "a"
   ]
  },
  {
   "cell_type": "code",
   "execution_count": 20,
   "metadata": {},
   "outputs": [
    {
     "data": {
      "text/plain": [
       "1594257518.3736124"
      ]
     },
     "execution_count": 20,
     "metadata": {},
     "output_type": "execute_result"
    }
   ],
   "source": [
    "\n",
    "start_time = time.time()\n",
    "start_time"
   ]
  },
  {
   "cell_type": "code",
   "execution_count": 21,
   "metadata": {},
   "outputs": [
    {
     "name": "stdout",
     "output_type": "stream",
     "text": [
      " ---- 1594257522.9383566 seconds ---\n"
     ]
    }
   ],
   "source": [
    "print(\" ---- %s seconds ---\" % ( time.time()))"
   ]
  },
  {
   "cell_type": "code",
   "execution_count": 22,
   "metadata": {},
   "outputs": [
    {
     "name": "stdout",
     "output_type": "stream",
     "text": [
      " ---- 8.023392677307129 seconds ---\n"
     ]
    }
   ],
   "source": [
    "print(\" ---- %s seconds ---\" % ( time.time() - start_time))"
   ]
  },
  {
   "cell_type": "code",
   "execution_count": 23,
   "metadata": {},
   "outputs": [
    {
     "data": {
      "text/plain": [
       "44608"
      ]
     },
     "execution_count": 23,
     "metadata": {},
     "output_type": "execute_result"
    }
   ],
   "source": [
    "ord('김')"
   ]
  },
  {
   "cell_type": "code",
   "execution_count": 24,
   "metadata": {},
   "outputs": [
    {
     "data": {
      "text/plain": [
       "44608"
      ]
     },
     "execution_count": 24,
     "metadata": {},
     "output_type": "execute_result"
    }
   ],
   "source": [
    "ord('김')"
   ]
  },
  {
   "cell_type": "code",
   "execution_count": 25,
   "metadata": {},
   "outputs": [
    {
     "data": {
      "text/plain": [
       "1594260818.8454077"
      ]
     },
     "execution_count": 25,
     "metadata": {},
     "output_type": "execute_result"
    }
   ],
   "source": [
    "time.time()"
   ]
  },
  {
   "cell_type": "code",
   "execution_count": 26,
   "metadata": {},
   "outputs": [
    {
     "data": {
      "text/plain": [
       "[634,\n",
       " 869,\n",
       " 369,\n",
       " 655,\n",
       " 129,\n",
       " 762,\n",
       " 433,\n",
       " 363,\n",
       " 132,\n",
       " 313,\n",
       " 636,\n",
       " 723,\n",
       " 628,\n",
       " 615,\n",
       " 752,\n",
       " 696,\n",
       " 643,\n",
       " 886,\n",
       " 139,\n",
       " 669,\n",
       " 817,\n",
       " 899,\n",
       " 63,\n",
       " 199,\n",
       " 115,\n",
       " 963,\n",
       " 994,\n",
       " 770,\n",
       " 125,\n",
       " 46,\n",
       " 230,\n",
       " 302,\n",
       " 943,\n",
       " 206,\n",
       " 201,\n",
       " 223,\n",
       " 293,\n",
       " 920,\n",
       " 705,\n",
       " 858,\n",
       " 616,\n",
       " 19,\n",
       " 106,\n",
       " 484,\n",
       " 171,\n",
       " 572,\n",
       " 970,\n",
       " 810,\n",
       " 25,\n",
       " 125,\n",
       " 840,\n",
       " 893,\n",
       " 38,\n",
       " 785,\n",
       " 655,\n",
       " 536,\n",
       " 927,\n",
       " 10,\n",
       " 814,\n",
       " 129,\n",
       " 978,\n",
       " 370,\n",
       " 916,\n",
       " 324,\n",
       " 770,\n",
       " 546,\n",
       " 606,\n",
       " 314,\n",
       " 507,\n",
       " 302,\n",
       " 983,\n",
       " 596,\n",
       " 732,\n",
       " 725,\n",
       " 277,\n",
       " 736,\n",
       " 307,\n",
       " 202,\n",
       " 858,\n",
       " 597,\n",
       " 226,\n",
       " 309,\n",
       " 92,\n",
       " 647,\n",
       " 870,\n",
       " 56,\n",
       " 107,\n",
       " 425,\n",
       " 39,\n",
       " 422,\n",
       " 232,\n",
       " 109,\n",
       " 999,\n",
       " 126,\n",
       " 34,\n",
       " 972,\n",
       " 514,\n",
       " 827,\n",
       " 187,\n",
       " 31]"
      ]
     },
     "execution_count": 26,
     "metadata": {},
     "output_type": "execute_result"
    }
   ],
   "source": [
    "a"
   ]
  },
  {
   "cell_type": "code",
   "execution_count": 30,
   "metadata": {
    "scrolled": true
   },
   "outputs": [
    {
     "data": {
      "text/plain": [
       "[634,\n",
       " 762,\n",
       " 132,\n",
       " 636,\n",
       " 628,\n",
       " 752,\n",
       " 696,\n",
       " 886,\n",
       " 994,\n",
       " 770,\n",
       " 46,\n",
       " 230,\n",
       " 302,\n",
       " 206,\n",
       " 920,\n",
       " 858,\n",
       " 616,\n",
       " 106,\n",
       " 484,\n",
       " 572,\n",
       " 970,\n",
       " 810,\n",
       " 840,\n",
       " 38,\n",
       " 536,\n",
       " 10,\n",
       " 814,\n",
       " 978,\n",
       " 370,\n",
       " 916,\n",
       " 324,\n",
       " 770,\n",
       " 546,\n",
       " 606,\n",
       " 314,\n",
       " 302,\n",
       " 596,\n",
       " 732,\n",
       " 736,\n",
       " 202,\n",
       " 858,\n",
       " 226,\n",
       " 92,\n",
       " 870,\n",
       " 56,\n",
       " 422,\n",
       " 232,\n",
       " 126,\n",
       " 34,\n",
       " 972,\n",
       " 514]"
      ]
     },
     "execution_count": 30,
     "metadata": {},
     "output_type": "execute_result"
    }
   ],
   "source": [
    "list(  filter ( lambda x: (x%2 == 0), a)  )"
   ]
  },
  {
   "cell_type": "code",
   "execution_count": 31,
   "metadata": {
    "collapsed": true
   },
   "outputs": [
    {
     "data": {
      "text/plain": [
       "[6340,\n",
       " 8690,\n",
       " 3690,\n",
       " 6550,\n",
       " 1290,\n",
       " 7620,\n",
       " 4330,\n",
       " 3630,\n",
       " 1320,\n",
       " 3130,\n",
       " 6360,\n",
       " 7230,\n",
       " 6280,\n",
       " 6150,\n",
       " 7520,\n",
       " 6960,\n",
       " 6430,\n",
       " 8860,\n",
       " 1390,\n",
       " 6690,\n",
       " 8170,\n",
       " 8990,\n",
       " 630,\n",
       " 1990,\n",
       " 1150,\n",
       " 9630,\n",
       " 9940,\n",
       " 7700,\n",
       " 1250,\n",
       " 460,\n",
       " 2300,\n",
       " 3020,\n",
       " 9430,\n",
       " 2060,\n",
       " 2010,\n",
       " 2230,\n",
       " 2930,\n",
       " 9200,\n",
       " 7050,\n",
       " 8580,\n",
       " 6160,\n",
       " 190,\n",
       " 1060,\n",
       " 4840,\n",
       " 1710,\n",
       " 5720,\n",
       " 9700,\n",
       " 8100,\n",
       " 250,\n",
       " 1250,\n",
       " 8400,\n",
       " 8930,\n",
       " 380,\n",
       " 7850,\n",
       " 6550,\n",
       " 5360,\n",
       " 9270,\n",
       " 100,\n",
       " 8140,\n",
       " 1290,\n",
       " 9780,\n",
       " 3700,\n",
       " 9160,\n",
       " 3240,\n",
       " 7700,\n",
       " 5460,\n",
       " 6060,\n",
       " 3140,\n",
       " 5070,\n",
       " 3020,\n",
       " 9830,\n",
       " 5960,\n",
       " 7320,\n",
       " 7250,\n",
       " 2770,\n",
       " 7360,\n",
       " 3070,\n",
       " 2020,\n",
       " 8580,\n",
       " 5970,\n",
       " 2260,\n",
       " 3090,\n",
       " 920,\n",
       " 6470,\n",
       " 8700,\n",
       " 560,\n",
       " 1070,\n",
       " 4250,\n",
       " 390,\n",
       " 4220,\n",
       " 2320,\n",
       " 1090,\n",
       " 9990,\n",
       " 1260,\n",
       " 340,\n",
       " 9720,\n",
       " 5140,\n",
       " 8270,\n",
       " 1870,\n",
       " 310]"
      ]
     },
     "execution_count": 31,
     "metadata": {},
     "output_type": "execute_result"
    }
   ],
   "source": [
    "list( map ( lambda x : x*10, a))"
   ]
  },
  {
   "cell_type": "code",
   "execution_count": 32,
   "metadata": {},
   "outputs": [],
   "source": [
    "def factorial(n):\n",
    "    if n == 1:\n",
    "        print('end')\n",
    "        return 1\n",
    "    return n*factorial(n-1)"
   ]
  },
  {
   "cell_type": "code",
   "execution_count": 35,
   "metadata": {},
   "outputs": [
    {
     "name": "stdout",
     "output_type": "stream",
     "text": [
      "end\n"
     ]
    },
    {
     "data": {
      "text/plain": [
       "6"
      ]
     },
     "execution_count": 35,
     "metadata": {},
     "output_type": "execute_result"
    }
   ],
   "source": [
    "factorial(3)"
   ]
  },
  {
   "cell_type": "markdown",
   "metadata": {},
   "source": [
    "# 섬 관광 프로그램"
   ]
  },
  {
   "cell_type": "code",
   "execution_count": 86,
   "metadata": {},
   "outputs": [],
   "source": [
    "class Node:\n",
    "    def __init__(self, name, left=None, right=None):\n",
    "        self.name = name\n",
    "        self.left = left\n",
    "        self.right = right\n",
    "        \n",
    "def map(N):\n",
    "    \n",
    "    return Node(N)\n",
    "#     n2 = Node('F')"
   ]
  },
  {
   "cell_type": "code",
   "execution_count": 36,
   "metadata": {},
   "outputs": [],
   "source": [
    "node_list = [''] * 11"
   ]
  },
  {
   "cell_type": "code",
   "execution_count": 37,
   "metadata": {},
   "outputs": [
    {
     "data": {
      "text/plain": [
       "['', '', '', '', '', '', '', '', '', '', '']"
      ]
     },
     "execution_count": 37,
     "metadata": {},
     "output_type": "execute_result"
    }
   ],
   "source": [
    "node_list"
   ]
  },
  {
   "cell_type": "code",
   "execution_count": 87,
   "metadata": {},
   "outputs": [],
   "source": [
    "a = dict()\n",
    "ss = list()\n",
    "al = ['H', 'F', 'S' , 'U','E', 'Z', 'K', 'N', 'A', 'Y', 'T']\n",
    "for i,ii in enumerate(al):\n",
    "    globals()['a{}'.format(i+1)] = map(ii)"
   ]
  },
  {
   "cell_type": "code",
   "execution_count": 55,
   "metadata": {},
   "outputs": [
    {
     "data": {
      "text/plain": [
       "'T'"
      ]
     },
     "execution_count": 55,
     "metadata": {},
     "output_type": "execute_result"
    }
   ],
   "source": [
    "ab.name"
   ]
  },
  {
   "cell_type": "code",
   "execution_count": 94,
   "metadata": {},
   "outputs": [
    {
     "data": {
      "text/plain": [
       "'K'"
      ]
     },
     "execution_count": 94,
     "metadata": {},
     "output_type": "execute_result"
    }
   ],
   "source": [
    "a7.name"
   ]
  },
  {
   "cell_type": "raw",
   "metadata": {},
   "source": [
    "# "
   ]
  },
  {
   "cell_type": "code",
   "execution_count": 66,
   "metadata": {},
   "outputs": [],
   "source": []
  },
  {
   "cell_type": "code",
   "execution_count": 67,
   "metadata": {},
   "outputs": [],
   "source": []
  },
  {
   "cell_type": "code",
   "execution_count": 68,
   "metadata": {},
   "outputs": [],
   "source": [
    "\n"
   ]
  },
  {
   "cell_type": "code",
   "execution_count": 69,
   "metadata": {},
   "outputs": [],
   "source": []
  },
  {
   "cell_type": "code",
   "execution_count": 70,
   "metadata": {},
   "outputs": [],
   "source": [
    "\n"
   ]
  },
  {
   "cell_type": "code",
   "execution_count": 71,
   "metadata": {},
   "outputs": [],
   "source": []
  },
  {
   "cell_type": "code",
   "execution_count": 97,
   "metadata": {},
   "outputs": [
    {
     "data": {
      "text/plain": [
       "2300.0"
      ]
     },
     "execution_count": 97,
     "metadata": {},
     "output_type": "execute_result"
    }
   ],
   "source": [
    "23000/10"
   ]
  },
  {
   "cell_type": "code",
   "execution_count": 98,
   "metadata": {},
   "outputs": [
    {
     "data": {
      "text/plain": [
       "2200.0"
      ]
     },
     "execution_count": 98,
     "metadata": {},
     "output_type": "execute_result"
    }
   ],
   "source": [
    "110000/50"
   ]
  },
  {
   "cell_type": "code",
   "execution_count": 88,
   "metadata": {},
   "outputs": [],
   "source": [
    "def aaa():\n",
    "    a1.left = a2\n",
    "    a2.right = a3\n",
    "    a2.left = a4\n",
    "    a2.right =a5\n",
    "    a3.left = a6\n",
    "    a3.right = a7\n",
    "    a4.left = a8\n",
    "    a5.left = a9\n",
    "    a7.left = a10\n",
    "    a9.right = a11\n",
    "    return a1"
   ]
  },
  {
   "cell_type": "code",
   "execution_count": 89,
   "metadata": {},
   "outputs": [],
   "source": [
    "def A_course(n):\n",
    "    if n !=None:\n",
    "        print(n.name, '->', end='')\n",
    "        A_course(n.left)\n",
    "        A_course(n.right)"
   ]
  },
  {
   "cell_type": "code",
   "execution_count": 90,
   "metadata": {},
   "outputs": [],
   "source": [
    "start = aaa()"
   ]
  },
  {
   "cell_type": "code",
   "execution_count": 91,
   "metadata": {},
   "outputs": [
    {
     "name": "stdout",
     "output_type": "stream",
     "text": [
      "A -코스 : \t , end =''\n"
     ]
    }
   ],
   "source": [
    "print(\"A -코스 : \\t , end =''\")"
   ]
  },
  {
   "cell_type": "code",
   "execution_count": 92,
   "metadata": {
    "scrolled": true
   },
   "outputs": [
    {
     "name": "stdout",
     "output_type": "stream",
     "text": [
      "H ->F ->U ->N ->E ->A ->T ->"
     ]
    }
   ],
   "source": [
    "A_course(a1)"
   ]
  },
  {
   "cell_type": "code",
   "execution_count": null,
   "metadata": {},
   "outputs": [],
   "source": []
  }
 ],
 "metadata": {
  "kernelspec": {
   "display_name": "Django Shell-Plus",
   "language": "python",
   "name": "django_extensions"
  },
  "language_info": {
   "codemirror_mode": {
    "name": "ipython",
    "version": 3
   },
   "file_extension": ".py",
   "mimetype": "text/x-python",
   "name": "python",
   "nbconvert_exporter": "python",
   "pygments_lexer": "ipython3",
   "version": "3.7.5"
  }
 },
 "nbformat": 4,
 "nbformat_minor": 4
}
