{
 "cells": [
  {
   "cell_type": "code",
   "execution_count": 49,
   "metadata": {},
   "outputs": [],
   "source": [
    "class SList:\n",
    "    class Node:\n",
    "        def __init__(self, item, link):\n",
    "            self.item = item\n",
    "            self.next = link\n",
    "            \n",
    "    \n",
    "    def __init__(self):\n",
    "        self.head = None\n",
    "        self.size = 0\n",
    "        \n",
    "    def size(self): return self.size\n",
    "    def is_empty(self): return self.size == 0\n",
    "    \n",
    "    def insert_front(self, item):\n",
    "        if self.is_empty():\n",
    "            self.head = self.Node(item, None)\n",
    "        \n",
    "        else:\n",
    "            self.head = self.Node(item, self.head)\n",
    "        self.size += 1\n",
    "        \n",
    "    def insert_after(self, item, p):\n",
    "        p.next = SList.Node(item, p.next)\n",
    "        self.size += 1\n",
    "        \n",
    "    def delete_front(self):\n",
    "        if self.is_empty():\n",
    "            raise EmptyError('Underflow')\n",
    "        else:\n",
    "            self.head = self.head.next\n",
    "            self.size -= 1\n",
    "            \n",
    "    def delete_after(self, p):\n",
    "        if self.is_empty():\n",
    "            raise EmptyError('Underflow')\n",
    "        t = p.next\n",
    "        p.next = t.next\n",
    "        self.size -= 1\n",
    "        \n",
    "    def search(self, target):\n",
    "        p = self.head\n",
    "        for k in range(self.size):\n",
    "            if target == p.item: return k\n",
    "            p = p.next\n",
    "        return None\n",
    "    def print_list(self):\n",
    "        p = self.head\n",
    "        while p:\n",
    "            if p.next != None:\n",
    "                print(p.item, ' -> ', end='')\n",
    "            else:\n",
    "                print(p.item)\n",
    "            p = p.next\n",
    "\n",
    "class EmptyError(Exception):\n",
    "    pass"
   ]
  },
  {
   "cell_type": "code",
   "execution_count": 20,
   "metadata": {},
   "outputs": [],
   "source": [
    "class LinkedList:\n",
    "    class Node:\n",
    "        def __init__(self, item, link):\n",
    "            self.item = item\n",
    "            self.link = link\n",
    "            \n",
    "            "
   ]
  },
  {
   "cell_type": "code",
   "execution_count": 50,
   "metadata": {},
   "outputs": [],
   "source": [
    "s = SList()"
   ]
  },
  {
   "cell_type": "code",
   "execution_count": 51,
   "metadata": {},
   "outputs": [],
   "source": [
    "s.insert_front('oranㅣㅣㅣㅣ')"
   ]
  },
  {
   "cell_type": "code",
   "execution_count": 52,
   "metadata": {},
   "outputs": [],
   "source": [
    "s.insert_front('apple')"
   ]
  },
  {
   "cell_type": "code",
   "execution_count": 60,
   "metadata": {},
   "outputs": [],
   "source": [
    "s.insert_after('cherrnhhhhhhhhhhhhhhhㅓㅓㅓy', s.head.next)"
   ]
  },
  {
   "cell_type": "code",
   "execution_count": 61,
   "metadata": {},
   "outputs": [
    {
     "name": "stdout",
     "output_type": "stream",
     "text": [
      "apple  -> oranㅣㅣㅣㅣ  -> cherrnhhhhhhhhhhhhhhhㅓㅓㅓy  -> cherrㅓㅓㅓy\n"
     ]
    }
   ],
   "source": [
    "s.print_list()"
   ]
  },
  {
   "cell_type": "code",
   "execution_count": 36,
   "metadata": {},
   "outputs": [],
   "source": [
    "s.insert_front('pear')"
   ]
  },
  {
   "cell_type": "code",
   "execution_count": null,
   "metadata": {},
   "outputs": [],
   "source": []
  }
 ],
 "metadata": {
  "kernelspec": {
   "display_name": "Django Shell-Plus",
   "language": "python",
   "name": "django_extensions"
  },
  "language_info": {
   "codemirror_mode": {
    "name": "ipython",
    "version": 3
   },
   "file_extension": ".py",
   "mimetype": "text/x-python",
   "name": "python",
   "nbconvert_exporter": "python",
   "pygments_lexer": "ipython3",
   "version": "3.7.5"
  }
 },
 "nbformat": 4,
 "nbformat_minor": 4
}
